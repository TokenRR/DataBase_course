{
 "cells": [
  {
   "cell_type": "code",
   "execution_count": 1,
   "metadata": {},
   "outputs": [],
   "source": [
    "import pandas as pd"
   ]
  },
  {
   "cell_type": "code",
   "execution_count": 2,
   "metadata": {},
   "outputs": [
    {
     "name": "stderr",
     "output_type": "stream",
     "text": [
      "C:\\Users\\Token\\AppData\\Local\\Temp\\ipykernel_10164\\3150124889.py:1: DtypeWarning: Columns (96,97,98,100,102,103,104,105,116,117,118,120,122,123,124,125) have mixed types. Specify dtype option on import or set low_memory=False.\n",
      "  df2020 = pd.read_csv(r'D:\\KPI\\Бази даних\\DataBase_course\\lab_1\\app\\Odata2020File.csv', encoding='windows-1251', sep=';')\n",
      "C:\\Users\\Token\\AppData\\Local\\Temp\\ipykernel_10164\\3150124889.py:2: DtypeWarning: Columns (117,118,119,121,123,124,125,126,137,138,139,141,143,144,145,146) have mixed types. Specify dtype option on import or set low_memory=False.\n",
      "  df2021 = pd.read_csv(r'D:\\KPI\\Бази даних\\DataBase_course\\lab_1\\app\\Odata2021File.csv', encoding='utf-8-sig', sep=';')\n"
     ]
    }
   ],
   "source": [
    "df2020 = pd.read_csv(r'D:\\KPI\\Бази даних\\DataBase_course\\lab_1\\app\\Odata2020File.csv', encoding='windows-1251', sep=';')\n",
    "df2021 = pd.read_csv(r'D:\\KPI\\Бази даних\\DataBase_course\\lab_1\\app\\Odata2021File.csv', encoding='utf-8-sig', sep=';')"
   ]
  },
  {
   "cell_type": "code",
   "execution_count": null,
   "metadata": {},
   "outputs": [],
   "source": [
    "for i in range(len(df2020.columns)):\n",
    "    print(df2020.columns[i])"
   ]
  },
  {
   "cell_type": "code",
   "execution_count": null,
   "metadata": {},
   "outputs": [],
   "source": [
    "for i in range(len(df2021.columns)):\n",
    "    print(df2021.columns[i])"
   ]
  },
  {
   "cell_type": "code",
   "execution_count": 8,
   "metadata": {},
   "outputs": [
    {
     "data": {
      "text/plain": [
       "array(['Зараховано', 'Не з’явився', nan, 'Не подолав поріг',\n",
       "       'Не обрано 100-200', 'Анульовано'], dtype=object)"
      ]
     },
     "execution_count": 8,
     "metadata": {},
     "output_type": "execute_result"
    }
   ],
   "source": [
    "df2021.UMLTestStatus.unique()"
   ]
  },
  {
   "cell_type": "code",
   "execution_count": 9,
   "metadata": {},
   "outputs": [
    {
     "data": {
      "text/plain": [
       "array(['Зараховано', nan, 'Не з’явився', 'Не подолав поріг',\n",
       "       'Не обрано 100-200', 'Анульовано'], dtype=object)"
      ]
     },
     "execution_count": 9,
     "metadata": {},
     "output_type": "execute_result"
    }
   ],
   "source": [
    "df2021.HistTestStatus.unique()"
   ]
  }
 ],
 "metadata": {
  "kernelspec": {
   "display_name": "DB_env",
   "language": "python",
   "name": "python3"
  },
  "language_info": {
   "codemirror_mode": {
    "name": "ipython",
    "version": 3
   },
   "file_extension": ".py",
   "mimetype": "text/x-python",
   "name": "python",
   "nbconvert_exporter": "python",
   "pygments_lexer": "ipython3",
   "version": "3.9.7"
  },
  "orig_nbformat": 4
 },
 "nbformat": 4,
 "nbformat_minor": 2
}
